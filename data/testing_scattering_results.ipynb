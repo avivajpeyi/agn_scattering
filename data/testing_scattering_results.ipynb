{
 "cells": [
  {
   "cell_type": "markdown",
   "metadata": {},
   "source": [
    "# AGN Scattering Sim Results"
   ]
  },
  {
   "cell_type": "markdown",
   "metadata": {},
   "source": [
    "First, lets import some packages, define some constants and load the file up"
   ]
  },
  {
   "cell_type": "code",
   "execution_count": 25,
   "metadata": {},
   "outputs": [
    {
     "name": "stdout",
     "output_type": "stream",
     "text": [
      "Number of sim files: 1\n"
     ]
    }
   ],
   "source": [
    "\"\"\"\n",
    "The script produces a figure showing the GW peak freq. vs. L_ij angle.\n",
    "All BHs have the same mass 20Msun and the initial SMA is set to 1 AU.\n",
    "\"\"\"\n",
    "\n",
    "import matplotlib.pyplot as plt\n",
    "from matplotlib import rcParams\n",
    "rcParams[\"font.size\"] = 20\n",
    "rcParams[\"font.family\"] = \"serif\"\n",
    "rcParams[\"font.sans-serif\"] = [\"Computer Modern Sans\"]\n",
    "rcParams[\"text.usetex\"] = True\n",
    "rcParams['axes.labelsize'] = 30\n",
    "rcParams['axes.titlesize'] = 30\n",
    "rcParams['axes.labelpad'] = 20\n",
    "\n",
    "import numpy as np\n",
    "import pandas as pd\n",
    "\n",
    "sec_year = 31536000.\n",
    "\n",
    "open_data_filename = 'RVA_0_003_01_03_1_2_3_4_5_10_15_25_45_75_90_ISO'\n",
    "npz_file = np.load(open_data_filename + 'savetestarr' + '.npz')\n",
    "data_all_array = npz_file['arr_0']\n",
    "print(f\"Number of sim files: {len(npz_file.files)}\")\n",
    "\n"
   ]
  },
  {
   "cell_type": "code",
   "execution_count": 26,
   "metadata": {},
   "outputs": [],
   "source": [
    "\n",
    "class ScatteringData:\n",
    "    def __init__(self, fname):\n",
    "        self.fname = fname\n",
    "        npz_file = np.load(self.fname + 'savetestarr' + '.npz')\n",
    "        self._data = npz_file['arr_0']\n",
    "        self.angle_info = self.get_angle_info()\n",
    "\n",
    "    def get_data(self, dc=0):\n",
    "        tGWij_SI_arr = self._data[dc, 0, :, 2] # inspiral time of binary i,j in seconds\n",
    "        fGWij_SI_arr = self._data[dc, 0, :, 4]\n",
    "        return pd.DataFrame(dict(\n",
    "            id_arr = self._data[dc, 0, :, 0],\n",
    "            obij_arr = self._data[dc, 0, :, 1],\n",
    "            tGWij_SI_arr= tGWij_SI_arr,\n",
    "            fGWij_SI_arr = fGWij_SI_arr,\n",
    "            ecc_A_arr = self._data[dc, 0, :, 7],  # (if > fGW_limit then = -1)\n",
    "            ecc_B_arr = self._data[dc, 0, :, 8],  # (if > fGW_limit then = -1)\n",
    "            Lij_ang_arr = self._data[dc, 0, :, 9],  # in degrees\n",
    "        ))\n",
    "\n",
    "    def get_angle_info(self):\n",
    "        \"\"\"The file name encodes some information on the interaction angle\"\"\"\n",
    "        nums_in_str = self.fname.split(\"_\")[1:]\n",
    "        binary_single_interaction_angle = {}\n",
    "        for i in range(len(nums_in_str)):\n",
    "            angle = nums_in_str[i]\n",
    "            if angle[0]=='0':\n",
    "                angle = str(float(\"0.\"+angle))\n",
    "            binary_single_interaction_angle.update({i:angle})\n",
    "        return binary_single_interaction_angle\n",
    "\n",
    "scat_data = ScatteringData(open_data_filename)\n"
   ]
  },
  {
   "cell_type": "markdown",
   "metadata": {},
   "source": [
    "## Descriptions of attributes\n",
    "- dc: \n",
    "    - This can take values from 0, 15 (1,2,3,4...) \n",
    "    - Each value corresponds to an initial inclination between the binary and the incoming single BH. \n",
    "    - The value in degree can be seen in the data file name: the first is 0 (co-planar), then 0.003 degrees, where the last is \"ISO = isotropic\"\n",
    "    - Therefore, chose dc = 0 for co-planar interactions, etc.\n",
    "\n",
    "- id_arr: \n",
    "    - id = 5 if the BHs merge during the interaction. \n",
    "    - id = 3 if BHs merge After the interaction  \n",
    "    - id >= 10 if the interaction did not end\n",
    "\n",
    "- obij_arr:\n",
    "    Tells you which of the two objects that end up in a binary:\n",
    "    -   1, 2 are the intial binary components\n",
    "    -   3 is incoming BH\n",
    "    The encoding shows which pair remains:\n",
    "    - 1: (1,2) remain\n",
    "    - 2: (1,3) remain\n",
    "    - 3: (2,3) remain\n",
    "\n",
    "- tGWij_SI_arr: inspiral time of resultant binary i,j in seconds.\n",
    "\n",
    "- fGWij_SI_arr: GW peak frequence of the BBH that merges (i,j)\n",
    "\n",
    "- ecc_B_arr: eccentricity at 10 Hz. If fGWij_SI_arr > 10 Hz then = -1.\n",
    "\n",
    "- Lij_ang_arr: Angle between initial and final orbital angular momentum vector.\n"
   ]
  },
  {
   "cell_type": "code",
   "execution_count": 27,
   "metadata": {},
   "outputs": [
    {
     "name": "stdout",
     "output_type": "stream",
     "text": [
      "Each dataset idx corresponds to an interaction angle:\n",
      "dc 0: 0.0 deg\n",
      "dc 1: 0.003 deg\n",
      "dc 2: 0.01 deg\n",
      "dc 3: 0.03 deg\n",
      "dc 4: 1 deg\n",
      "dc 5: 2 deg\n",
      "dc 6: 3 deg\n",
      "dc 7: 4 deg\n",
      "dc 8: 5 deg\n",
      "dc 9: 10 deg\n",
      "dc 10: 15 deg\n",
      "dc 11: 25 deg\n",
      "dc 12: 45 deg\n",
      "dc 13: 75 deg\n",
      "dc 14: 90 deg\n",
      "dc 15: ISO deg\n"
     ]
    }
   ],
   "source": [
    "print(\"Each dataset idx corresponds to an interaction angle:\")\n",
    "for dc, angle in scat_data.angle_info.items():\n",
    "    print(f\"dc {dc}: {angle} deg\")"
   ]
  },
  {
   "cell_type": "markdown",
   "metadata": {},
   "source": [
    "# Plots "
   ]
  },
  {
   "cell_type": "markdown",
   "metadata": {},
   "source": [
    "## GW Peak freq VS $L_{i,j}$"
   ]
  },
  {
   "cell_type": "markdown",
   "metadata": {},
   "source": [
    "What does this acutllay show us???"
   ]
  },
  {
   "cell_type": "code",
   "execution_count": 66,
   "metadata": {},
   "outputs": [
    {
     "data": {
      "application/vnd.jupyter.widget-view+json": {
       "model_id": "675669face584ee689036ee9bc3daa4e",
       "version_major": 2,
       "version_minor": 0
      },
      "text/plain": [
       "interactive(children=(IntSlider(value=0, continuous_update=False, description='dc_idx', max=15), Output(layout…"
      ]
     },
     "metadata": {},
     "output_type": "display_data"
    }
   ],
   "source": [
    "\n",
    "from __future__ import print_function\n",
    "from ipywidgets import interactive, IntSlider, Layout\n",
    "import ipywidgets as widgets\n",
    "import warnings\n",
    "warnings.filterwarnings(\"ignore\")\n",
    "\n",
    "\n",
    "def plot_gw_freq_vs_Lij(dc_idx=0):\n",
    "    dc_dat = scat_data.get_data(dc=dc_idx)\n",
    "    pos_LTtlim = np.where(dc_dat.tGWij_SI_arr < (10 ** 5) * sec_year)[0]\n",
    "    pos_GTtlim = np.where(dc_dat.tGWij_SI_arr > (10 ** 5) * sec_year)[0]\n",
    "\n",
    "    fig = plt.figure(figsize=(8.0, 8.0))\n",
    "    ax1 = fig.add_subplot(111)\n",
    "    kwargs = dict(marker='.', markersize=5.0, linewidth=0,)\n",
    "    ax1.plot(dc_dat.fGWij_SI_arr[pos_GTtlim], dc_dat.Lij_ang_arr[pos_GTtlim], color='black', label=\"Before Merger\", **kwargs)                      \n",
    "    ax1.plot(dc_dat.fGWij_SI_arr[pos_LTtlim], dc_dat.Lij_ang_arr[pos_LTtlim], color='red', label=\"After Merger\", **kwargs)\n",
    "    ax1.set_xlim(1e-8, 1e4)\n",
    "    ax1.set_ylim(0, 180)\n",
    "    ax1.set_xscale('log')\n",
    "    ax1.set_xlabel(\"GW Peak Freq\")\n",
    "    ax1.set_ylabel(r\"$L_{ij}$ angle\")\n",
    "    plt.title(f\"Impact Angle: {scat_data.get_angle_info()[dc_idx]} deg\")\n",
    "    plt.legend(frameon=False, markerscale=3, loc=\"upper right\", bbox_to_anchor=(1.5, 1))\n",
    "    plt.show()\n",
    "    \n",
    "\n",
    "interactive_plot = interactive(\n",
    "    plot_gw_freq_vs_Lij,\n",
    "    dc_idx=IntSlider(min=0, max=15, setp=1, continuous_update=False),\n",
    "    save=False\n",
    ")\n",
    "output = interactive_plot.children[-1]\n",
    "output.layout.height = '1000px'\n",
    "\n",
    "interactive_plot\n",
    "\n"
   ]
  },
  {
   "cell_type": "code",
   "execution_count": null,
   "metadata": {},
   "outputs": [],
   "source": [
    "dc_dat = scat_data.get_data(dc=1)\n",
    "pos_LTtlim = np.where(dc_dat.tGWij_SI_arr < (10 ** 5) * sec_year)[0]\n",
    "pos_GTtlim = np.where(dc_dat.tGWij_SI_arr > (10 ** 5) * sec_year)[0]\n",
    "\n",
    "fig = plt.figure(figsize=(8.0, 8.0))\n",
    "ax1 = fig.add_subplot(111)\n",
    "kwargs = dict(marker='.', markersize=5.0, linewidth=0,)\n",
    "ax1.plot(dc_dat.fGWij_SI_arr[pos_GTtlim], dc_dat.Lij_ang_arr[pos_GTtlim], color='black', label=\"Before Merger\", **kwargs)                      \n",
    "ax1.plot(dc_dat.fGWij_SI_arr[pos_LTtlim], dc_dat.Lij_ang_arr[pos_LTtlim], color='red', label=\"After Merger\", **kwargs)\n",
    "ax1.set_xlim(1e-8, 1e4)\n",
    "ax1.set_ylim(0, 180)\n",
    "ax1.set_xscale('log')\n",
    "ax1.set_xlabel(\"GW Peak Freq\")\n",
    "ax1.set_ylabel(r\"$L_{ij}$ angle\")\n",
    "plt.title(f\"Impact Angle: {scat_data.get_angle_info()[dc_idx]} deg\")\n",
    "plt.legend(frameon=False, markerscale=3, loc=\"upper right\", bbox_to_anchor=(1.5, 1))\n",
    "plt.show()"
   ]
  },
  {
   "cell_type": "code",
   "execution_count": 68,
   "metadata": {},
   "outputs": [
    {
     "data": {
      "text/html": [
       "<div>\n",
       "<style scoped>\n",
       "    .dataframe tbody tr th:only-of-type {\n",
       "        vertical-align: middle;\n",
       "    }\n",
       "\n",
       "    .dataframe tbody tr th {\n",
       "        vertical-align: top;\n",
       "    }\n",
       "\n",
       "    .dataframe thead th {\n",
       "        text-align: right;\n",
       "    }\n",
       "</style>\n",
       "<table border=\"1\" class=\"dataframe\">\n",
       "  <thead>\n",
       "    <tr style=\"text-align: right;\">\n",
       "      <th></th>\n",
       "      <th>id_arr</th>\n",
       "      <th>obij_arr</th>\n",
       "      <th>tGWij_SI_arr</th>\n",
       "      <th>fGWij_SI_arr</th>\n",
       "      <th>ecc_A_arr</th>\n",
       "      <th>ecc_B_arr</th>\n",
       "      <th>Lij_ang_arr</th>\n",
       "    </tr>\n",
       "  </thead>\n",
       "  <tbody>\n",
       "    <tr>\n",
       "      <th>0</th>\n",
       "      <td>3.0</td>\n",
       "      <td>3.0</td>\n",
       "      <td>2.474837e+20</td>\n",
       "      <td>0.000001</td>\n",
       "      <td>0.000011</td>\n",
       "      <td>7.587139e-09</td>\n",
       "      <td>0.114129</td>\n",
       "    </tr>\n",
       "    <tr>\n",
       "      <th>1</th>\n",
       "      <td>3.0</td>\n",
       "      <td>3.0</td>\n",
       "      <td>1.017602e+20</td>\n",
       "      <td>0.000002</td>\n",
       "      <td>0.000030</td>\n",
       "      <td>2.024746e-08</td>\n",
       "      <td>179.856360</td>\n",
       "    </tr>\n",
       "    <tr>\n",
       "      <th>2</th>\n",
       "      <td>3.0</td>\n",
       "      <td>1.0</td>\n",
       "      <td>5.160284e+17</td>\n",
       "      <td>0.000020</td>\n",
       "      <td>0.000512</td>\n",
       "      <td>3.484310e-07</td>\n",
       "      <td>0.090860</td>\n",
       "    </tr>\n",
       "    <tr>\n",
       "      <th>3</th>\n",
       "      <td>3.0</td>\n",
       "      <td>2.0</td>\n",
       "      <td>5.372646e+19</td>\n",
       "      <td>0.000003</td>\n",
       "      <td>0.000076</td>\n",
       "      <td>5.190963e-08</td>\n",
       "      <td>0.144992</td>\n",
       "    </tr>\n",
       "    <tr>\n",
       "      <th>4</th>\n",
       "      <td>3.0</td>\n",
       "      <td>3.0</td>\n",
       "      <td>9.496020e+18</td>\n",
       "      <td>0.000008</td>\n",
       "      <td>0.000193</td>\n",
       "      <td>1.314759e-07</td>\n",
       "      <td>179.651022</td>\n",
       "    </tr>\n",
       "    <tr>\n",
       "      <th>...</th>\n",
       "      <td>...</td>\n",
       "      <td>...</td>\n",
       "      <td>...</td>\n",
       "      <td>...</td>\n",
       "      <td>...</td>\n",
       "      <td>...</td>\n",
       "      <td>...</td>\n",
       "    </tr>\n",
       "    <tr>\n",
       "      <th>49995</th>\n",
       "      <td>3.0</td>\n",
       "      <td>1.0</td>\n",
       "      <td>1.202510e+17</td>\n",
       "      <td>0.000051</td>\n",
       "      <td>0.001497</td>\n",
       "      <td>1.017847e-06</td>\n",
       "      <td>0.164055</td>\n",
       "    </tr>\n",
       "    <tr>\n",
       "      <th>49996</th>\n",
       "      <td>3.0</td>\n",
       "      <td>3.0</td>\n",
       "      <td>8.404751e+19</td>\n",
       "      <td>0.000002</td>\n",
       "      <td>0.000028</td>\n",
       "      <td>1.904865e-08</td>\n",
       "      <td>0.097560</td>\n",
       "    </tr>\n",
       "    <tr>\n",
       "      <th>49997</th>\n",
       "      <td>3.0</td>\n",
       "      <td>3.0</td>\n",
       "      <td>3.086777e+19</td>\n",
       "      <td>0.000004</td>\n",
       "      <td>0.000088</td>\n",
       "      <td>5.987205e-08</td>\n",
       "      <td>0.022720</td>\n",
       "    </tr>\n",
       "    <tr>\n",
       "      <th>49998</th>\n",
       "      <td>3.0</td>\n",
       "      <td>2.0</td>\n",
       "      <td>1.752120e+18</td>\n",
       "      <td>0.000012</td>\n",
       "      <td>0.000288</td>\n",
       "      <td>1.960966e-07</td>\n",
       "      <td>0.050437</td>\n",
       "    </tr>\n",
       "    <tr>\n",
       "      <th>49999</th>\n",
       "      <td>10.0</td>\n",
       "      <td>2.0</td>\n",
       "      <td>1.924546e+20</td>\n",
       "      <td>0.000002</td>\n",
       "      <td>0.000033</td>\n",
       "      <td>2.239958e-08</td>\n",
       "      <td>179.670549</td>\n",
       "    </tr>\n",
       "  </tbody>\n",
       "</table>\n",
       "<p>50000 rows × 7 columns</p>\n",
       "</div>"
      ],
      "text/plain": [
       "       id_arr  obij_arr  tGWij_SI_arr  fGWij_SI_arr  ecc_A_arr     ecc_B_arr  \\\n",
       "0         3.0       3.0  2.474837e+20      0.000001   0.000011  7.587139e-09   \n",
       "1         3.0       3.0  1.017602e+20      0.000002   0.000030  2.024746e-08   \n",
       "2         3.0       1.0  5.160284e+17      0.000020   0.000512  3.484310e-07   \n",
       "3         3.0       2.0  5.372646e+19      0.000003   0.000076  5.190963e-08   \n",
       "4         3.0       3.0  9.496020e+18      0.000008   0.000193  1.314759e-07   \n",
       "...       ...       ...           ...           ...        ...           ...   \n",
       "49995     3.0       1.0  1.202510e+17      0.000051   0.001497  1.017847e-06   \n",
       "49996     3.0       3.0  8.404751e+19      0.000002   0.000028  1.904865e-08   \n",
       "49997     3.0       3.0  3.086777e+19      0.000004   0.000088  5.987205e-08   \n",
       "49998     3.0       2.0  1.752120e+18      0.000012   0.000288  1.960966e-07   \n",
       "49999    10.0       2.0  1.924546e+20      0.000002   0.000033  2.239958e-08   \n",
       "\n",
       "       Lij_ang_arr  \n",
       "0         0.114129  \n",
       "1       179.856360  \n",
       "2         0.090860  \n",
       "3         0.144992  \n",
       "4       179.651022  \n",
       "...            ...  \n",
       "49995     0.164055  \n",
       "49996     0.097560  \n",
       "49997     0.022720  \n",
       "49998     0.050437  \n",
       "49999   179.670549  \n",
       "\n",
       "[50000 rows x 7 columns]"
      ]
     },
     "execution_count": 68,
     "metadata": {},
     "output_type": "execute_result"
    }
   ],
   "source": [
    "dc_dat = scat_data.get_data(dc=1)\n",
    "dc_dat"
   ]
  },
  {
   "cell_type": "code",
   "execution_count": 7,
   "metadata": {},
   "outputs": [],
   "source": []
  },
  {
   "cell_type": "code",
   "execution_count": null,
   "metadata": {},
   "outputs": [],
   "source": []
  },
  {
   "cell_type": "markdown",
   "metadata": {},
   "source": [
    "## Kick calculations"
   ]
  },
  {
   "cell_type": "code",
   "execution_count": 36,
   "metadata": {
    "pycharm": {
     "name": "#%%\n"
    }
   },
   "outputs": [
    {
     "name": "stdout",
     "output_type": "stream",
     "text": [
      "Loaded NRSur7dq4Remnant fit.\n"
     ]
    }
   ],
   "source": [
    "from bbh_simulator.black_hole import BlackHole, merge_bbh_pair\n",
    "\n",
    "remnant = merge_bbh_pair(\n",
    "    bh_1=BlackHole(mass=s.mass_1_source, spin=[s.spin_1x, s.spin_1y, s.spin_1z]),\n",
    "    bh_2=BlackHole(mass=s.mass_2_source, spin=[s.spin_2x, s.spin_2y, s.spin_2z]),\n",
    ")\n",
    "print(remnant.to_dict())\n",
    "\n"
   ]
  },
  {
   "cell_type": "code",
   "execution_count": 58,
   "metadata": {},
   "outputs": [
    {
     "data": {
      "image/png": "[encoded data removed]",
      "text/plain": [
       "<Figure size 576x576 with 1 Axes>"
      ]
     },
     "metadata": {
      "needs_background": "light"
     },
     "output_type": "display_data"
    }
   ],
   "source": [
    "open_data_filename          = 'RVA_0_003_01_03_1_2_3_4_5_10_15_25_45_75_90_ISO'\n",
    "data_all_array              = np.load(open_data_filename + 'savetestarr' + '.npz')['arr_0']\n",
    "#define:\n",
    "sec_year        = 31536000.\n",
    "dc  = 2         #dataset index.\n",
    "id_arr          = data_all_array[dc, 0, :, 0]          \n",
    "obij_arr        = data_all_array[dc, 0, :, 1]\n",
    "tGWij_SI_arr    = data_all_array[dc, 0, :, 2]\n",
    "fGWij_SI_arr    = data_all_array[dc, 0, :, 4]\n",
    "ecc_A_arr       = data_all_array[dc, 0, :, 7]   #(if > fGW_limit then = -1)\n",
    "ecc_B_arr       = data_all_array[dc, 0, :, 8]   #(if > fGW_limit then = -1)\n",
    "Lij_ang_arr     = data_all_array[dc, 0, :, 9]   #in degrees\n",
    "pos_LTtlim        = np.where(tGWij_SI_arr < (10**5)*sec_year)\n",
    "pos_GTtlim        = np.where(tGWij_SI_arr > (10**5)*sec_year)    \n",
    "#plot:\n",
    "fig = plt.figure(figsize=(8.0, 8.0))\n",
    "ax1 = fig.add_subplot(111)\n",
    "ax1.plot(fGWij_SI_arr[pos_LTtlim], Lij_ang_arr[pos_LTtlim], marker = '.', markersize = 2.0, linewidth = 0, color = 'red')\n",
    "ax1.plot(fGWij_SI_arr[pos_GTtlim], Lij_ang_arr[pos_GTtlim], marker = '.', markersize = 0.5, linewidth = 0, color = 'black')\n",
    "ax1.set_xlim(1e-8,1e3)\n",
    "ax1.set_xscale('log')\n",
    "ax1.set_xlabel(\"Peak Freq\")\n",
    "#show:\n",
    "plt.show()    "
   ]
  },
  {
   "cell_type": "code",
   "execution_count": null,
   "metadata": {},
   "outputs": [],
   "source": []
  },
  {
   "cell_type": "markdown",
   "metadata": {},
   "source": [
    "### NOTES:\n",
    "\n",
    "ec and angle relation? \n",
    "\n",
    "kick as function of ecc\n",
    "\n",
    "scatter plot of vectors (direciton of vel)\n",
    "\n",
    "how th e kick looks EM counterpart\n",
    "\n",
    "\n",
    "higher the eccentricity, smaller the J, and so easier it to flip the BBH\n",
    "\n",
    "peak freq is associated with pericenter (almost constant) of binary until orbit circular, after which the peak freq increases\n",
    "\n",
    "peak freq == 2* orb freq "
   ]
  },
  {
   "cell_type": "code",
   "execution_count": null,
   "metadata": {},
   "outputs": [],
   "source": []
  }
 ],
 "metadata": {
  "kernelspec": {
   "display_name": "Python 3",
   "language": "python",
   "name": "python3"
  },
  "language_info": {
   "codemirror_mode": {
    "name": "ipython",
    "version": 3
   },
   "file_extension": ".py",
   "mimetype": "text/x-python",
   "name": "python",
   "nbconvert_exporter": "python",
   "pygments_lexer": "ipython3",
   "version": "3.7.6"
  }
 },
 "nbformat": 4,
 "nbformat_minor": 4
}
