{
 "cells": [
  {
   "cell_type": "markdown",
   "metadata": {},
   "source": [
    "# AGN Scattering Sim Results"
   ]
  },
  {
   "cell_type": "markdown",
   "metadata": {},
   "source": [
    "First, lets import some packages, deinfe some plotting functions and constants and load the file up"
   ]
  },
  {
   "cell_type": "code",
   "execution_count": 4,
   "metadata": {},
   "outputs": [],
   "source": [
    "from __future__ import print_function\n",
    "import matplotlib.pyplot as plt\n",
    "from matplotlib import rcParams\n",
    "import matplotlib.lines as mlines\n",
    "from typing import List, Optional\n",
    "import seaborn as sns\n",
    "from ipywidgets import interactive, IntSlider, Layout\n",
    "import ipywidgets as widgets\n",
    "import warnings\n",
    "import corner\n",
    "import numpy as np\n",
    "import pandas as pd\n",
    "\n",
    "warnings.filterwarnings(\"ignore\")\n",
    "\n",
    "rcParams[\"font.size\"] = 20\n",
    "rcParams[\"font.family\"] = \"serif\"\n",
    "rcParams[\"font.sans-serif\"] = [\"Computer Modern Sans\"]\n",
    "rcParams[\"text.usetex\"] = True\n",
    "rcParams['axes.labelsize'] = 30\n",
    "rcParams['axes.titlesize'] = 30\n",
    "rcParams['axes.labelpad'] = 20\n",
    "rcParams[\"font.size\"] = 30\n",
    "rcParams[\"font.family\"] = \"serif\"\n",
    "rcParams[\"font.sans-serif\"] = [\"Computer Modern Sans\"]\n",
    "rcParams[\"text.usetex\"] = True\n",
    "rcParams['axes.labelsize'] = 30\n",
    "rcParams['axes.titlesize'] = 30\n",
    "rcParams['axes.labelpad'] = 10\n",
    "rcParams['axes.linewidth'] = 2.5\n",
    "rcParams['axes.edgecolor'] = 'black'\n",
    "rcParams['xtick.labelsize'] = 25\n",
    "rcParams['xtick.major.size'] = 10.0\n",
    "rcParams['xtick.minor.size'] = 5.0\n",
    "rcParams['ytick.labelsize'] = 25\n",
    "rcParams['ytick.major.size'] = 10.0\n",
    "rcParams['ytick.minor.size'] = 5.0\n",
    "plt.rcParams['xtick.direction'] = 'in'\n",
    "plt.rcParams['ytick.direction'] = 'in'\n",
    "plt.rcParams['xtick.minor.width'] = 1\n",
    "plt.rcParams['xtick.major.width'] = 3\n",
    "plt.rcParams['ytick.minor.width'] = 1\n",
    "plt.rcParams['ytick.major.width'] = 2.5\n",
    "plt.rcParams['xtick.top'] = True\n",
    "plt.rcParams['ytick.right'] = True\n",
    "\n",
    "\n",
    "def get_colors(num_colors: int, alpha: Optional[float]=1, palette_num=1) -> List[List[float]]:\n",
    "    \"\"\"Get a list of colorblind colors,\n",
    "    :param num_colors: Number of colors.\n",
    "    :param alpha: The transparency\n",
    "    :return: List of colors. Each color is a list of [r, g, b, alpha].\n",
    "    \"\"\"\n",
    "    palettes = ['colorblind', \"ch:start=.2,rot=-.3\"]\n",
    "    cs = sns.color_palette(palettes[palette_num], n_colors=num_colors)\n",
    "    cs = [list(c) for c in cs]\n",
    "    for i in range(len(cs)):\n",
    "        cs[i].append(alpha)\n",
    "    return cs\n",
    "\n",
    "\n",
    "\n",
    "CORNER_KWARGS = dict(\n",
    "    smooth=0.99,\n",
    "    label_kwargs=dict(fontsize=30),\n",
    "    title_kwargs=dict(fontsize=16),\n",
    "    truth_color='tab:orange',\n",
    "#     quantiles=[0.16, 0.84],\n",
    "    levels=(1 - np.exp(-0.5), 1 - np.exp(-2), 1 - np.exp(-9 / 2.)),\n",
    "    plot_density=False,\n",
    "    plot_datapoints=False,\n",
    "    fill_contours=True,\n",
    "    max_n_ticks=3,\n",
    "    verbose=False,\n",
    "    use_math_text=True,\n",
    "    )\n",
    "\n",
    "def overlaid_corner(samples_list, sample_labels, axis_labels, plot_range, colors):\n",
    "    \"\"\"Plots multiple corners on top of each other\"\"\"\n",
    "    # get some constants\n",
    "    n = len(samples_list)\n",
    "    _, ndim = samples_list[0].shape\n",
    "    min_len = min([len(s) for s in samples_list])\n",
    "\n",
    "    CORNER_KWARGS.update(range=plot_range, labels=axis_labels)\n",
    "\n",
    "    fig = corner.corner(\n",
    "        samples_list[0],\n",
    "        color=colors[0],\n",
    "        **CORNER_KWARGS,\n",
    "    )\n",
    "\n",
    "    for idx in range(1, n):\n",
    "        fig = corner.corner(\n",
    "            samples_list[idx],\n",
    "            fig=fig,\n",
    "            weights=get_normalisation_weight(len(samples_list[idx]), min_len),\n",
    "            color=colors[idx],\n",
    "            **CORNER_KWARGS\n",
    "        )\n",
    "\n",
    "    plt.legend(\n",
    "        handles=[\n",
    "            mlines.Line2D([], [], color=colors[i], label=sample_labels[i])\n",
    "            for i in range(n)\n",
    "        ],\n",
    "        fontsize=20, frameon=False,\n",
    "        bbox_to_anchor=(1, ndim), loc=\"upper right\"\n",
    "    )\n",
    "    return fig\n",
    "\n",
    "def get_normalisation_weight(len_current_samples, len_of_longest_samples):\n",
    "    return np.ones(len_current_samples) * (len_of_longest_samples / len_current_samples)"
   ]
  },
  {
   "cell_type": "code",
   "execution_count": 5,
   "metadata": {},
   "outputs": [
    {
     "name": "stdout",
     "output_type": "stream",
     "text": [
      "Number of sim files: 1\n"
     ]
    }
   ],
   "source": [
    "SEC_YEAR = 60*60*24*365 # seconds in a year\n",
    "AVG_SCATTER_TIME = (10 ** 5)* SEC_YEAR # average time for a scattering \n",
    "\n",
    "open_data_filename = 'RVA_0_003_01_03_1_2_3_4_5_10_15_25_45_75_90_ISO'\n",
    "npz_file = np.load(open_data_filename + 'savetestarr' + '.npz')\n",
    "data_all_array = npz_file['arr_0']\n",
    "print(f\"Number of sim files: {len(npz_file.files)}\")\n"
   ]
  },
  {
   "cell_type": "markdown",
   "metadata": {},
   "source": [
    "## Descriptions of attributes\n",
    "- dc: \n",
    "    - This can take values from 0, 15 (1,2,3,4...) \n",
    "    - Each value corresponds to an initial inclination between the binary and the incoming single BH. \n",
    "    - The value in degree can be seen in the data file name: the first is 0 (co-planar), then 0.003 degrees, where the last is \"ISO = isotropic\"\n",
    "    - Therefore, chose dc = 0 for co-planar interactions, etc.\n",
    "\n",
    "- id_arr: \n",
    "    - id = 5 if the BHs merge during the interaction. \n",
    "    - id = 3 if BHs merge After the interaction  \n",
    "    - id >= 10 if the interaction did not end\n",
    "\n",
    "- obij_arr:\n",
    "    Tells you which of the two objects that end up in a binary:\n",
    "    -   1, 2 are the intial binary components\n",
    "    -   3 is incoming BH\n",
    "    The encoding shows which pair remains:\n",
    "    - 1: (1,2) remain\n",
    "    - 2: (1,3) remain\n",
    "    - 3: (2,3) remain\n",
    "\n",
    "- tGWij_SI_arr: inspiral time of resultant binary i,j in seconds.\n",
    "\n",
    "- fGWij_SI_arr: GW peak frequency of the BBH that merges (i,j)\n",
    "\n",
    "- ecc_A_arr: lisa eccentricity (dont use)\n",
    "- ecc_B_arr: eccentricity at 10 Hz. If fGWij_SI_arr > 10 Hz then = -1.\n",
    "\n",
    "\n",
    "- Lij_ang_arr: Angle between initial and final orbital angular momentum vector.\n",
    "\n",
    "Note that Lij_ang_arr == the zenith angle of the component BBHs  \n",
    "\n",
    "![](../diagrams/binary_scattering_agn.png)\n"
   ]
  },
  {
   "cell_type": "code",
   "execution_count": 72,
   "metadata": {},
   "outputs": [
    {
     "name": "stdout",
     "output_type": "stream",
     "text": [
      "Each dataset idx corresponds to an interaction angle:\n",
      "dc 0: 0.0 deg\n",
      "dc 1: 0.003 deg\n",
      "dc 2: 0.01 deg\n",
      "dc 3: 0.03 deg\n",
      "dc 4: 1 deg\n",
      "dc 5: 2 deg\n",
      "dc 6: 3 deg\n",
      "dc 7: 4 deg\n",
      "dc 8: 5 deg\n",
      "dc 9: 10 deg\n",
      "dc 10: 15 deg\n",
      "dc 11: 25 deg\n",
      "dc 12: 45 deg\n",
      "dc 13: 75 deg\n",
      "dc 14: 90 deg\n",
      "dc 15: ISO deg\n"
     ]
    },
    {
     "data": {
      "image/png": "[encoded data removed]",
      "text/plain": [
       "<Figure size 1080x360 with 3 Axes>"
      ]
     },
     "metadata": {
      "needs_background": "light"
     },
     "output_type": "display_data"
    }
   ],
   "source": [
    "\n",
    "\n",
    "\n",
    "class ScatteringFile:\n",
    "    def __init__(self, fname):\n",
    "        self.fname = fname\n",
    "        npz_file = np.load(self.fname + 'savetestarr' + '.npz')\n",
    "        self._data = npz_file['arr_0']\n",
    "        self.angle_info = self.get_angle_info()\n",
    "\n",
    "    def get_data(self, dc=0):\n",
    "        return ScatteringData.from_scattering_file_data(\n",
    "            self._data,\n",
    "            dc, \n",
    "            self.angle_info[dc]\n",
    "        )\n",
    "\n",
    "    def get_angle_info(self):\n",
    "        \"\"\"The file name encodes some information on the interaction angle\"\"\"\n",
    "        nums_in_str = self.fname.split(\"_\")[1:]\n",
    "        binary_single_interaction_angle = {}\n",
    "        for i in range(len(nums_in_str)):\n",
    "            angle = nums_in_str[i]\n",
    "            if angle[0]=='0':\n",
    "                angle = str(float(\"0.\"+angle))\n",
    "            binary_single_interaction_angle.update({i:angle})\n",
    "        return binary_single_interaction_angle\n",
    "    \n",
    "    \n",
    "    def plot_1d(self, histval, dc_vals=[0,1,2,3,4]):\n",
    "        fig = plt.figure(figsize=(8.0, 8.0))\n",
    "        ax1 = fig.add_subplot(111)\n",
    "        kwargs = dict(histtype='step', density=True, linewidth=3)\n",
    "        dc_colors = get_colors(len(dc_vals))\n",
    "        for dc, dc_col in zip(dc_vals, dc_colors):\n",
    "            scat_dat = self.get_data(dc)\n",
    "            try:\n",
    "                ax1.hist(\n",
    "                    scat_dat.all_systems[histval], color=dc_col, \n",
    "                    label=f\"{scat_dat.scattering_angle}\"+\"$^{\\\\circ}$\", **kwargs\n",
    "                )\n",
    "            except Exception as e:\n",
    "                pass\n",
    "        scat_dat = self.get_data(0)\n",
    "        ax1.set_xlabel(scat_dat._labels[histval])\n",
    "        ax1.set_ylabel(\"Density\")\n",
    "        ax1.set_xlim(*scat_dat._ranges[histval])\n",
    "        plt.title(f\"{scat_dat._labels[histval]} for different Impact Angles\")\n",
    "        plt.legend(frameon=False, markerscale=3, loc=\"upper right\", bbox_to_anchor=(1.85, 1))\n",
    "        \n",
    "    \n",
    "class ScatteringData:\n",
    "    def __init__(self, inspiral_time, gw_peak_freq, interaction_status, binary_id, ecc, tilt, scattering_angle):\n",
    "        \"\"\"\n",
    "        interaction_status: if merger occured before/during/after (or never) the interaction\n",
    "        binary_id: which binary pair merges\n",
    "        inspiral_time: inspiral time (merger time) of binary\n",
    "        gw_peak_freq: GW peak frequency of the merger\n",
    "        ligo_ecc: eccentricty at 10Hz (LIGO band)\n",
    "        tilt: tilt angle of BBHs \n",
    "        merger_occured: True if merger occurs\n",
    "        burst_source: True if burst source (if ecc very large at 10Hz)\n",
    "        interation_angle: angle of scattering interaction\n",
    "        \"\"\"\n",
    "        self.gw_peak_freq = gw_peak_freq\n",
    "        self.inspiral_time = inspiral_time\n",
    "        self.interaction_status = interaction_status\n",
    "        self.binary_id = binary_id\n",
    "        self.ecc = ecc\n",
    "        self.ecc[self.ecc == -1] = 10\n",
    "        self.tilt = tilt\n",
    "        self.scattering_angle = scattering_angle\n",
    "        \n",
    "        self.cos_tilt = np.cos(np.deg2rad(self.tilt))\n",
    "        self.merger_occured = self.inspiral_time < AVG_SCATTER_TIME\n",
    "        self.log10_ecc = np.log10(self.ecc)\n",
    "        self.log10_gw_peak_freq = np.log10(self.gw_peak_freq)\n",
    "        self.burst_source = self.ecc == 10\n",
    "    \n",
    "    @classmethod\n",
    "    def from_scattering_file_data(cls, scat_file_data, dc, scattering_angle):\n",
    "        return cls(\n",
    "            inspiral_time = scat_file_data[dc, 0, :, 2],\n",
    "            gw_peak_freq = scat_file_data[dc, 0, :, 4],\n",
    "            interaction_status = scat_file_data[dc, 0, :, 0],\n",
    "            binary_id =  scat_file_data[dc, 0, :, 1],\n",
    "            ecc= scat_file_data[dc, 0, :, 8],\n",
    "            tilt = scat_file_data[dc, 0, :, 9],\n",
    "            scattering_angle = scattering_angle\n",
    "        )   \n",
    "    \n",
    "    @property\n",
    "    def all_systems(self):\n",
    "        return pd.DataFrame(dict(\n",
    "            cos_tilt = self.cos_tilt,\n",
    "            ecc = self.ecc,\n",
    "            log10_ecc = self.log10_ecc,\n",
    "            log10_gw_peak_freq = self.log10_gw_peak_freq,\n",
    "            burst_source = self.burst_source,\n",
    "            merger_occured = self.merger_occured\n",
    "        ))\n",
    "        \n",
    "    @property\n",
    "    def merging_systems(self):\n",
    "        df = self.all_systems\n",
    "        return df[(df['merger_occured']==True)&(df['burst_source']==False)]\n",
    "    \n",
    "    @property\n",
    "    def non_merging_systems(self):\n",
    "        df = self.all_systems\n",
    "        return df[(df['merger_occured']==False)&(df['burst_source']==False)]\n",
    "        \n",
    "    @property\n",
    "    def burst_systems(self):\n",
    "        df = self.all_systems\n",
    "        return df[df['burst_source']==True]\n",
    "    \n",
    "    @property\n",
    "    def _labels(self):\n",
    "        return dict(\n",
    "        log10_ecc = \"$\\\\log_{10}\\ \\\\mathrm{e}$\",\n",
    "        log10_gw_peak_freq = \"$\\\\log_{10} f_{\\\\mathrm{GW}}$\",\n",
    "        cos_tilt = \"$\\\\cos(\\\\mathrm{tilt})$\"\n",
    "        )\n",
    "    \n",
    "\n",
    "    @property\n",
    "    def _ranges(self):\n",
    "        return dict(\n",
    "            log10_ecc = (-9, 0),\n",
    "            log10_gw_peak_freq = (-6, 0),\n",
    "            cos_tilt = (-1, 1)\n",
    "        )\n",
    "    \n",
    "    def plot_2d(self, xval, yval):\n",
    "        fig = plt.figure(figsize=(8.0, 8.0))\n",
    "        ax1 = fig.add_subplot(111)\n",
    "        kwargs = dict(marker='.', markersize=5.0, linewidth=0, zorder=-1)\n",
    "        ax1.plot(self.merging_systems[xval], self.merging_systems[yval], color='gray', label=\"Merger Occurs\", **kwargs)                      \n",
    "        ax1.plot(self.non_merging_systems[xval], self.non_merging_systems[yval], color='red', label=\"No Merger\", **kwargs)\n",
    "#         ax1.plot(self.burst_systems[xval], self.burst_systems[yval], color='blue', label=\"Burst\", **kwargs)\n",
    "        ax1.set_xlabel(self._labels[xval])\n",
    "        ax1.set_ylabel(self._labels[yval])\n",
    "        ax1.set_xlim(*self._ranges[xval])\n",
    "        ax1.set_ylim(*self._ranges[yval])\n",
    "        plt.title(f\"Impact Angle: {self.scattering_angle}\" + \"$^{\\\\circ}$\")\n",
    "        plt.legend(frameon=False, markerscale=3, loc=\"upper right\", bbox_to_anchor=(1.85, 1))\n",
    "        \n",
    "    def plot_1d(self, histval):\n",
    "        fig = plt.figure(figsize=(8.0, 8.0))\n",
    "        ax1 = fig.add_subplot(111)\n",
    "        kwargs = dict(histtype='step', density=True, linewidth=3)\n",
    "        ax1.hist(self.merging_systems[histval], color='gray', label=\"Merger Occurs\", **kwargs)                      \n",
    "        ax1.hist(self.non_merging_systems[histval], color='red', label=\"No Merger\", **kwargs)\n",
    "        ax1.set_xlabel(self._labels[histval])\n",
    "        ax1.set_ylabel(\"Density\")\n",
    "        ax1.set_xlim(*self._ranges[histval])\n",
    "        plt.title(f\"Impact Angle: {self.scattering_angle}\" + \"$^{\\\\circ}$\")\n",
    "        plt.legend(frameon=False, markerscale=3, loc=\"upper right\", bbox_to_anchor=(1.85, 1))\n",
    "    \n",
    "    def plot_tilt_for_diff_ecc(self):\n",
    "        fig = plt.figure(figsize=(8.0, 8.0))\n",
    "        ax1 = fig.add_subplot(111)\n",
    "        kwargs = dict(histtype='step', density=True, linewidth=3)\n",
    "        e_below_01 = self.all_systems[self.all_systems.ecc < 0.1]\n",
    "        e_above_01 = self.all_systems[self.all_systems.ecc > 0.1]\n",
    "        e_above_099 = self.all_systems[self.all_systems.ecc > 0.99]\n",
    "        e_dat = [e.cos_tilt for e in [e_below_01, e_above_01, e_above_099]]\n",
    "        colors = get_colors(3, palette_num=0)\n",
    "        labels = [\"$\\\\mathrm{e} < 0.1$\", \"$\\\\mathrm{e}>0.1$\", \"$\\\\mathrm{e}>0.99$\"]\n",
    "        for i in range(len(e_dat)):\n",
    "            ax1.hist(e_dat[i], color=colors[i], label=labels[i], **kwargs)                      \n",
    "        ax1.set_xlabel(self._labels[\"cos_tilt\"])\n",
    "        ax1.set_ylabel(\"Density\")\n",
    "        ax1.set_xlim(*self._ranges[\"cos_tilt\"])\n",
    "        ax1.set_ylim(0,3.5)\n",
    "        plt.title(f\"Impact Angle: {self.scattering_angle}\" + \"$^{\\\\circ}$\")\n",
    "        plt.legend(frameon=False, markerscale=3, loc=\"upper right\", bbox_to_anchor=(1.85, 1))\n",
    "        plt.show()\n",
    "        \n",
    "    def plot_corner(self, dc_idx=1):\n",
    "        p = ['log10_gw_peak_freq','log10_ecc', 'cos_tilt']\n",
    "        fig = overlaid_corner(\n",
    "            samples_list=[self.merging_systems[p], self.non_merging_systems[p]],\n",
    "            sample_labels=[\"Merger Occurs\", \"No Merger\"],\n",
    "            axis_labels=[self._labels[param] for param in p],\n",
    "            plot_range=[self._ranges[param] for param in p],\n",
    "            colors=['gray', 'red']\n",
    "        )\n",
    "        fig.suptitle(f\"Impact Angle: {self.scattering_angle}\" + \"$^{\\\\circ}$\", y=1.05)\n",
    "        \n",
    "    def plot_probability_of_in_plane_merger(self):\n",
    "        fig = plt.figure(figsize=(8.0, 8.0))\n",
    "        ax1 = fig.add_subplot(111)\n",
    "        kwargs = dict(histtype='step', density=True, linewidth=3)\n",
    "        e_below_01 = self.all_systems[self.all_systems.ecc < 0.1]\n",
    "        e_above_01 = self.all_systems[self.all_systems.ecc > 0.1]\n",
    "        e_above_099 = self.all_systems[self.all_systems.ecc > 0.99]\n",
    "        total_lens = [len(e) for e in [e_below_01, e_above_01, e_above_099]]\n",
    "        e_below_01 = e_below_01[(e_below_01.cos_tilt > -0.25)&(e_below_01.cos_tilt < 0.25)]\n",
    "        e_above_01 = e_above_01[(e_above_01.cos_tilt > -0.25)&(e_above_01.cos_tilt < 0.25)]\n",
    "        e_above_099 = e_above_099[(e_above_099.cos_tilt > -0.25)&(e_above_099.cos_tilt < 0.25)]\n",
    "        e_dat = [e.cos_tilt for e in [e_below_01, e_above_01, e_above_099]]\n",
    "        e_dat = [dat/l for dat,l in zip(e_dat, total_lens)]\n",
    "        colors = get_colors(3, palette_num=0)\n",
    "        labels = [\"$\\\\mathrm{e} < 0.1$\", \"$\\\\mathrm{e}>0.1$\", \"$\\\\mathrm{e}>0.99$\"]\n",
    "        for i in range(len(e_dat)):\n",
    "            ax1.hist(e_dat[i], color=colors[i], label=labels[i], **kwargs)                      \n",
    "        ax1.set_xlabel(self._labels[\"cos_tilt\"])\n",
    "        ax1.set_ylabel(\"Density\")\n",
    "        ax1.set_xlim(*self._ranges[\"cos_tilt\"])\n",
    "        ax1.set_ylim(0,3.5)\n",
    "        plt.title(f\"Impact Angle: {self.scattering_angle}\" + \"$^{\\\\circ}$\")\n",
    "        plt.legend(frameon=False, markerscale=3, loc=\"upper right\", bbox_to_anchor=(1.85, 1))\n",
    "        plt.show()\n",
    "\n",
    "        \n",
    "    def plot_only_prob_in_plane(self):\n",
    "        fig, axs = plt.subplots(1, 3, sharex=True,sharey=True, figsize=(15.0, 5.0))\n",
    "        kwargs = dict( linewidth=2, where='post')\n",
    "        bins = np.linspace(-0.5, 0.5, num=15)\n",
    "        e_below_01 = self.all_systems[self.all_systems.ecc < 0.1]\n",
    "        e_above_01 = self.all_systems[self.all_systems.ecc > 0.1]\n",
    "        e_above_099 = self.all_systems[self.all_systems.ecc > 0.99]\n",
    "        total_lens = [len(e) for e in [e_below_01, e_above_01, e_above_099]]\n",
    "        e_below_01 = e_below_01[(e_below_01.cos_tilt > -0.25)&(e_below_01.cos_tilt < 0.25)]\n",
    "        e_above_01 = e_above_01[(e_above_01.cos_tilt > -0.25)&(e_above_01.cos_tilt < 0.25)]\n",
    "        e_above_099 = e_above_099[(e_above_099.cos_tilt > -0.25)&(e_above_099.cos_tilt < 0.25)]\n",
    "        e_dat = [e.cos_tilt for e in [e_below_01, e_above_01, e_above_099]]\n",
    "        e_dat = [dat for dat,l in zip(e_dat, total_lens)]\n",
    "        colors = get_colors(3, palette_num=0)\n",
    "        labels = [\"$\\\\mathrm{e} < 0.1$\", \"$\\\\mathrm{e}>0.1$\", \"$\\\\mathrm{e}>0.99$\"]\n",
    "        for i in range(3):\n",
    "            counts, bin_edges = np.histogram(e_dat[i], bins)                      \n",
    "            counts = counts/total_lens[i]\n",
    "            axs[i].step(bin_edges[:-1], counts, color=colors[i],  label=labels[i], **kwargs)\n",
    "            axs[i].set_xlim(-0.4, 0.4)\n",
    "            axs[i].set_ylim(0, 0.1)\n",
    "            axs[i].set_xlabel(self._labels[\"cos_tilt\"])\n",
    "        axs[0].set_ylabel(\"Density\")\n",
    "\n",
    "        plt.suptitle(f\"Impact Angle: {self.scattering_angle}\" + \"$^{\\\\circ}$\")\n",
    "        axs[2].legend(\n",
    "            handles=[\n",
    "                mlines.Line2D([], [], color=colors[i], label=labels[i])\n",
    "                for i in range(3)\n",
    "            ],frameon=False,\n",
    "            bbox_to_anchor=(1.95, 1), loc=\"upper right\"\n",
    "        )\n",
    "        plt.show()\n",
    "        \n",
    "scat_file = ScatteringFile(open_data_filename)\n",
    "print(\"Each dataset idx corresponds to an interaction angle:\")\n",
    "for dc, angle in scat_file.angle_info.items():\n",
    "    print(f\"dc {dc}: {angle} deg\")\n",
    "    \n",
    "scat_file.get_data(3).plot_only_prob_in_plane()"
   ]
  },
  {
   "cell_type": "code",
   "execution_count": 73,
   "metadata": {},
   "outputs": [
    {
     "ename": "NameError",
     "evalue": "name 'Ω' is not defined",
     "output_type": "error",
     "traceback": [
      "\u001b[0;31m---------------------------------------------------------------------------\u001b[0m",
      "\u001b[0;31mNameError\u001b[0m                                 Traceback (most recent call last)",
      "\u001b[0;32m<ipython-input-73-e57395ffb64b>\u001b[0m in \u001b[0;36m<module>\u001b[0;34m\u001b[0m\n\u001b[0;32m----> 1\u001b[0;31m \u001b[0mΩ\u001b[0m\u001b[0;34m\u001b[0m\u001b[0;34m\u001b[0m\u001b[0m\n\u001b[0m",
      "\u001b[0;31mNameError\u001b[0m: name 'Ω' is not defined"
     ]
    }
   ],
   "source": [
    "Ω"
   ]
  },
  {
   "cell_type": "markdown",
   "metadata": {},
   "source": [
    "# Plots "
   ]
  },
  {
   "cell_type": "code",
   "execution_count": 74,
   "metadata": {},
   "outputs": [],
   "source": [
    "COLS = ['log10_gw_peak_freq',  'log10_ecc', 'cos_tilt']\n",
    "\n",
    "def plot_2d_data(dc_idx=1, xval='log10_gw_peak_freq', yval='cos_tilt'):\n",
    "    scat_file = ScatteringFile(open_data_filename)\n",
    "    dc_dat = scat_file.get_data(dc=dc_idx)       \n",
    "    dc_dat.plot_2d(xval, yval)\n",
    "    plt.show()\n",
    "    \n",
    "def plot_1d_data(dc_idx=1, histval='cos_tilt'):\n",
    "    scat_file = ScatteringFile(open_data_filename)\n",
    "    dc_dat = scat_file.get_data(dc=dc_idx)       \n",
    "    dc_dat.plot_1d(histval)\n",
    "    plt.show()\n",
    "    \n",
    "    \n",
    "def plot_different_scat_hist(histval='cos_tilt'):\n",
    "    scat_file.plot_1d(histval, dc_vals=[0, 2, 4, 6, 8, 10, 12, 14])\n",
    "    plt.show()\n",
    "\n",
    "def plot_scat_corner(dc_idx=1):\n",
    "    scat_file = ScatteringFile(open_data_filename)\n",
    "    dc_dat = scat_file.get_data(dc=dc_idx)       \n",
    "    dc_dat.plot_corner()\n",
    "    plt.show()\n",
    "    \n",
    "def plot_ecc(dc_idx):\n",
    "    scat_file = ScatteringFile(open_data_filename)\n",
    "    dc_dat = scat_file.get_data(dc=dc_idx)       \n",
    "#     dc_dat.plot_tilt_for_diff_ecc()\n",
    "    dc_dat.plot_probability_of_in_plane_merger()\n",
    "    plt.show()\n",
    "    \n",
    "def plot_prob_in_plane(dc_idx):\n",
    "    scat_file = ScatteringFile(open_data_filename)\n",
    "    dc_dat = scat_file.get_data(dc=dc_idx)       \n",
    "#     dc_dat.plot_tilt_for_diff_ecc()\n",
    "    dc_dat.plot_only_prob_in_plane()\n",
    "    plt.show()\n",
    "    \n",
    "def make_interactive_plot(plotting_func, my_kwargs={}):\n",
    "    interactive_ploter = interactive(\n",
    "        plotting_func,\n",
    "        dc_idx=IntSlider(value=1, min=1, max=15, setp=1, continuous_update=False),\n",
    "        save=True,\n",
    "        **my_kwargs\n",
    "    )\n",
    "    output_interactive_ploter = interactive_ploter.children[-1]\n",
    "    output_interactive_ploter.layout.height = '600px'\n",
    "    return interactive_ploter\n",
    "\n",
    "\n",
    "interactive_1d_plot = make_interactive_plot(plot_1d_data, my_kwargs=dict(histval=COLS))\n",
    "interactive_2d_plot = make_interactive_plot(plot_2d_data, my_kwargs=dict(xval=COLS, yvals=COLS))\n",
    "interactive_corner_plot = make_interactive_plot(plot_scat_corner)\n",
    "interactive_scatter_angles_plot = make_interactive_plot(plot_different_scat_hist, my_kwargs=dict(histval=COLS))\n",
    "interactive_ecc_tilt = make_interactive_plot(plot_ecc)\n",
    "interactive_p_in_plane = make_interactive_plot(plot_prob_in_plane)\n"
   ]
  },
  {
   "cell_type": "code",
   "execution_count": 75,
   "metadata": {},
   "outputs": [
    {
     "data": {
      "application/vnd.jupyter.widget-view+json": {
       "model_id": "49e4e39b344049a3adb3cc9a8084a32a",
       "version_major": 2,
       "version_minor": 0
      },
      "text/plain": [
       "interactive(children=(IntSlider(value=1, continuous_update=False, description='dc_idx', max=15, min=1), Output…"
      ]
     },
     "metadata": {},
     "output_type": "display_data"
    }
   ],
   "source": [
    "interactive_p_in_plane"
   ]
  },
  {
   "cell_type": "code",
   "execution_count": 103,
   "metadata": {
    "pycharm": {
     "name": "#%%\n"
    }
   },
   "outputs": [
    {
     "data": {
      "application/vnd.jupyter.widget-view+json": {
       "model_id": "4792cb5b5fd84561aa73096203c1d9cc",
       "version_major": 2,
       "version_minor": 0
      },
      "text/plain": [
       "interactive(children=(IntSlider(value=1, continuous_update=False, description='dc_idx', max=15, min=1), Output…"
      ]
     },
     "metadata": {},
     "output_type": "display_data"
    }
   ],
   "source": [
    "interactive_ecc_tilt"
   ]
  },
  {
   "cell_type": "code",
   "execution_count": 95,
   "metadata": {},
   "outputs": [
    {
     "data": {
      "application/vnd.jupyter.widget-view+json": {
       "model_id": "b7fb2ccecc284fe29733a9f216602d1b",
       "version_major": 2,
       "version_minor": 0
      },
      "text/plain": [
       "interactive(children=(IntSlider(value=1, continuous_update=False, description='dc_idx', max=15, min=1), Dropdo…"
      ]
     },
     "metadata": {},
     "output_type": "display_data"
    }
   ],
   "source": [
    "interactive_1d_plot"
   ]
  },
  {
   "cell_type": "code",
   "execution_count": 96,
   "metadata": {},
   "outputs": [
    {
     "data": {
      "application/vnd.jupyter.widget-view+json": {
       "model_id": "830ed639df53473eac5136a122adcaa4",
       "version_major": 2,
       "version_minor": 0
      },
      "text/plain": [
       "interactive(children=(IntSlider(value=1, continuous_update=False, description='dc_idx', max=15, min=1), Dropdo…"
      ]
     },
     "metadata": {},
     "output_type": "display_data"
    }
   ],
   "source": [
    "interactive_2d_plot"
   ]
  },
  {
   "cell_type": "code",
   "execution_count": 97,
   "metadata": {},
   "outputs": [
    {
     "data": {
      "application/vnd.jupyter.widget-view+json": {
       "model_id": "7c1eedff7e9e4e02a2a3da652719c068",
       "version_major": 2,
       "version_minor": 0
      },
      "text/plain": [
       "interactive(children=(IntSlider(value=1, continuous_update=False, description='dc_idx', max=15, min=1), Output…"
      ]
     },
     "metadata": {},
     "output_type": "display_data"
    }
   ],
   "source": [
    "interactive_corner_plot"
   ]
  },
  {
   "cell_type": "code",
   "execution_count": 98,
   "metadata": {},
   "outputs": [
    {
     "data": {
      "application/vnd.jupyter.widget-view+json": {
       "model_id": "bc7784ce699d40e8836414e46c8562d2",
       "version_major": 2,
       "version_minor": 0
      },
      "text/plain": [
       "interactive(children=(Dropdown(description='histval', index=2, options=('log10_gw_peak_freq', 'log10_ecc', 'co…"
      ]
     },
     "metadata": {},
     "output_type": "display_data"
    }
   ],
   "source": [
    "interactive_scatter_angles_plot"
   ]
  },
  {
   "cell_type": "code",
   "execution_count": 100,
   "metadata": {},
   "outputs": [],
   "source": [
    "# Kick calculations"
   ]
  },
  {
   "cell_type": "markdown",
   "metadata": {},
   "source": [
    "# Kick calculations"
   ]
  },
  {
   "cell_type": "markdown",
   "metadata": {},
   "source": [
    "Since $L_{ij}==\\text{BH}_i,\\text{BH}_j\\text{ zenith angle}$, we can calculate $\\chi_1$, $\\chi_2$:\n",
    "\\begin{align*}\n",
    "\\chi_{ij}[x] &= r \\sin(L_{ij}) \\cos(\\phi) \\\\\n",
    "\\chi_{ij}[y] &= r \\sin(L_{ij}) \\sin(\\phi) \\\\\n",
    "\\chi_{ij}[z] &= r \\cos(L_{ij})\\ .\n",
    "\\end{align*}\n",
    "\n",
    "We take $r=0.5$ and $\\phi=0$. Note, right now $r$ and $\\phi$ are the same for each binary pair... We might need to change this in the future.\n",
    "\n"
   ]
  },
  {
   "cell_type": "code",
   "execution_count": 100,
   "metadata": {},
   "outputs": [],
   "source": [
    "CALC_KICK = False\n",
    "\n",
    "if CALC_KICK:\n",
    "    from bbh_simulator.calculate_kick_vel_from_samples import Samples\n",
    "    \n",
    "    r = 0.5\n",
    "    phi = 0\n",
    "    mass = 20\n",
    "\n",
    "\n",
    "    def calculate_kick_samples(dc_idx=1, num_samples=1000):\n",
    "        dc_dat = scat_data.get_data(dc=dc_idx)\n",
    "        if num_samples > len(dc_dat):\n",
    "            raise ValueError(\"Asking for too many samples! \")\n",
    "        Lij = np.radians(dc_dat['Lij_ang_arr'])\n",
    "        dc_dat['mass_1_source'] = mass\n",
    "        dc_dat['spin_1x'] = r * np.sin(Lij) * np.cos(phi) \n",
    "        dc_dat['spin_1y'] = r * np.sin(Lij) * np.sin(phi) \n",
    "        dc_dat['spin_1z'] = r * np.cos(Lij) \n",
    "        dc_dat['mass_2_source'] = dc_dat['mass_1_source'] \n",
    "        dc_dat['spin_2x'] = dc_dat['spin_1x'] \n",
    "        dc_dat['spin_2y'] = dc_dat['spin_1y'] \n",
    "        dc_dat['spin_2z'] = dc_dat['spin_1z'] \n",
    "        s = Samples(posterior=dc_dat.sample(num_samples))\n",
    "        s.calculate_remnant_kick_velocity()\n",
    "        s.posterior.to_csv(f'dc{dc_idx}_samples_with_kicks.csv')\n",
    "        return s.posterior\n",
    "\n",
    "\n",
    "    samples = calculate_kick_samples(dc_idx=1, num_samples=10000)"
   ]
  }
 ],
 "metadata": {
  "kernelspec": {
   "display_name": "Python 3",
   "language": "python",
   "name": "python3"
  },
  "language_info": {
   "codemirror_mode": {
    "name": "ipython",
    "version": 3
   },
   "file_extension": ".py",
   "mimetype": "text/x-python",
   "name": "python",
   "nbconvert_exporter": "python",
   "pygments_lexer": "ipython3",
   "version": "3.7.6"
  }
 },
 "nbformat": 4,
 "nbformat_minor": 4
}
